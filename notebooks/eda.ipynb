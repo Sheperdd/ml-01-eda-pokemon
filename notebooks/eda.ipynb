{
 "cells": [
  {
   "cell_type": "markdown",
   "id": "8cc286ed",
   "metadata": {},
   "source": [
    "# EDA: Sample Customers\n",
    "\n",
    "This notebook loads a tiny CSV, performs quick cleaning, and produces 6–8 charts."
   ]
  },
  {
   "cell_type": "code",
   "execution_count": null,
   "id": "f9361a9e",
   "metadata": {},
   "outputs": [],
   "source": [
    "import pandas as pd\n",
    "import matplotlib.pyplot as plt\n",
    "\n",
    "pd.set_option(\"display.max_columns\", None)\n",
    "df = pd.read_csv(\"../data/sample_customers.csv\")\n",
    "df.head()"
   ]
  },
  {
   "cell_type": "code",
   "execution_count": null,
   "id": "97760059",
   "metadata": {},
   "outputs": [],
   "source": [
    "df.info()"
   ]
  },
  {
   "cell_type": "code",
   "execution_count": null,
   "id": "ece3f305",
   "metadata": {},
   "outputs": [],
   "source": [
    "# Basic cleaning: handle missing income with median\n",
    "df[\"income\"] = df[\"income\"].fillna(df[\"income\"].median())\n",
    "df.isna().sum()"
   ]
  },
  {
   "cell_type": "code",
   "execution_count": null,
   "id": "cee18899",
   "metadata": {},
   "outputs": [],
   "source": [
    "# Summary stats\n",
    "df.describe(include=\"all\")"
   ]
  },
  {
   "cell_type": "code",
   "execution_count": null,
   "id": "d563dec2",
   "metadata": {},
   "outputs": [],
   "source": [
    "# Histogram: age\n",
    "plt.figure()\n",
    "df[\"age\"].plot.hist(bins=20, edgecolor=\"black\")\n",
    "plt.title(\"Age Distribution\")\n",
    "plt.xlabel(\"Age\")\n",
    "plt.ylabel(\"Count\")\n",
    "plt.show()"
   ]
  },
  {
   "cell_type": "code",
   "execution_count": null,
   "id": "19cd6a35",
   "metadata": {},
   "outputs": [],
   "source": [
    "# Histogram: income\n",
    "plt.figure()\n",
    "df[\"income\"].plot.hist(bins=20, edgecolor=\"black\")\n",
    "plt.title(\"Income Distribution\")\n",
    "plt.xlabel(\"Income\")\n",
    "plt.ylabel(\"Count\")\n",
    "plt.show()"
   ]
  },
  {
   "cell_type": "code",
   "execution_count": null,
   "id": "3ece4582",
   "metadata": {},
   "outputs": [],
   "source": [
    "# Histogram: purchases\n",
    "plt.figure()\n",
    "df[\"purchases\"].plot.hist(bins=15, edgecolor=\"black\")\n",
    "plt.title(\"Purchases Distribution\")\n",
    "plt.xlabel(\"Purchases\")\n",
    "plt.ylabel(\"Count\")\n",
    "plt.show()"
   ]
  },
  {
   "cell_type": "code",
   "execution_count": null,
   "id": "8436de73",
   "metadata": {},
   "outputs": [],
   "source": [
    "# Boxplots for numeric columns\n",
    "numeric_cols = [\"age\", \"income\", \"purchases\"]\n",
    "for col in numeric_cols:\n",
    "    plt.figure()\n",
    "    df.boxplot(column=col)\n",
    "    plt.title(f\"Boxplot of {col}\")\n",
    "    plt.ylabel(col)\n",
    "    plt.show()"
   ]
  },
  {
   "cell_type": "code",
   "execution_count": null,
   "id": "1ffebf5f",
   "metadata": {},
   "outputs": [],
   "source": [
    "# Correlation heatmap for numeric features\n",
    "corr = df[[\"age\", \"income\", \"purchases\"]].corr()\n",
    "plt.figure()\n",
    "plt.imshow(corr, interpolation=\"nearest\")\n",
    "plt.xticks(range(len(corr.columns)), corr.columns, rotation=45, ha=\"right\")\n",
    "plt.yticks(range(len(corr.columns)), corr.columns)\n",
    "plt.colorbar()\n",
    "plt.title(\"Correlation Heatmap\")\n",
    "plt.tight_layout()\n",
    "plt.show()"
   ]
  },
  {
   "cell_type": "markdown",
   "id": "aba82fe1",
   "metadata": {},
   "source": [
    "**Takeaways**\n",
    "\n",
    "- Write 3–5 bullet insights here after looking at the figures."
   ]
  }
 ],
 "metadata": {},
 "nbformat": 4,
 "nbformat_minor": 5
}
